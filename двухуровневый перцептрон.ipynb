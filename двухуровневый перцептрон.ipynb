{
 "cells": [
  {
   "cell_type": "markdown",
   "metadata": {},
   "source": [
    "input data: country, HDI for year (индекс человеческого развития), gdp_for_year (ввп в год), gdp_per_capita (ввп на душу населения).\n",
    "\n",
    "output data: m_5-14, m_15-24, m_25-34, m_35-54, m_55-74, m_75-, f_5-14, f_15-24, f_25-34, f_35-54, f_55-74, f_75-.\n",
    "\n",
    "method: MLP\n",
    "\n",
    "data from\n",
    "https://www.kaggle.com/russellyates88/suicide-rates-overview-1985-to-2016"
   ]
  },
  {
   "cell_type": "code",
   "execution_count": 1,
   "metadata": {
    "collapsed": true
   },
   "outputs": [],
   "source": [
    "%matplotlib inline  \n",
    "import numpy as np\n",
    "from numpy import array as na\n",
    "\n",
    "import pandas as pd\n",
    "import random\n",
    "from sklearn.preprocessing import OneHotEncoder, LabelEncoder\n",
    "\n",
    "import matplotlib\n",
    "import matplotlib.pyplot as plt"
   ]
  },
  {
   "cell_type": "code",
   "execution_count": 44,
   "metadata": {},
   "outputs": [],
   "source": [
    "a=pd.read_csv(\"suicide.csv\")\n",
    "\n",
    "#создаю массив входных столбцов для обучения, состав столбцов очевиден по названию\n",
    "X_hdi=a[\"HDI for year\"]\n",
    "X_gdp_p=a[\"gdp_per_capita ($)\"]\n",
    "\n",
    "# для создания столбцов, отвечающих за страну надо переделать слово в число так, чтобы все числа были равнозначны, для этого\n",
    "# использую OneHotEncoder, он каждой стране сопоставит вектор, причем все векторы будут равноудалены друг от друга.\n",
    "c=a[\"country\"]\n",
    "label_encoder = LabelEncoder()\n",
    "c = pd.Series(label_encoder.fit_transform(c))\n",
    "c=c.values.reshape(-1, 1)\n",
    "\n",
    "onehot_encoder = OneHotEncoder(sparse=False)\n",
    "matrix = onehot_encoder.fit_transform(c)\n",
    "X_c = pd.DataFrame(onehot_encoder.fit_transform(c)).T\n",
    "\n",
    "# объединяю все входные данные в единый массив\n",
    "X=np.vstack([X_c,X_hdi,X_gdp_p]).T\n",
    "\n",
    "#удаляю повторяющиеся данные\n",
    "X=pd.DataFrame(X).drop_duplicates().values\n",
    "n=len(X)\n",
    "a['country_num']=c\n"
   ]
  },
  {
   "cell_type": "markdown",
   "metadata": {},
   "source": [
    "Дальше я хочу аналогично построить массив ответов. "
   ]
  },
  {
   "cell_type": "code",
   "execution_count": 14,
   "metadata": {
    "collapsed": true
   },
   "outputs": [],
   "source": [
    "b=a.groupby(['country_num','year','sex','age'])['suicides/100k pop'].mean()\n",
    "B=pd.DataFrame(b.reset_index(name = \"count_num\"))\n",
    "Z=np.zeros((2320,12))"
   ]
  },
  {
   "cell_type": "code",
   "execution_count": 45,
   "metadata": {},
   "outputs": [],
   "source": [
    "# B[B['country_num']==100]"
   ]
  },
  {
   "cell_type": "markdown",
   "metadata": {},
   "source": [
    "Но дальше  не знаю, как создать из этого массив, поскольку не для каждой страны есть все данные"
   ]
  }
 ],
 "metadata": {
  "kernelspec": {
   "display_name": "Python 3",
   "language": "python",
   "name": "python3"
  },
  "language_info": {
   "codemirror_mode": {
    "name": "ipython",
    "version": 3
   },
   "file_extension": ".py",
   "mimetype": "text/x-python",
   "name": "python",
   "nbconvert_exporter": "python",
   "pygments_lexer": "ipython3",
   "version": "3.6.3"
  }
 },
 "nbformat": 4,
 "nbformat_minor": 2
}
