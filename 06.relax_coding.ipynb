{
 "cells": [
  {
   "cell_type": "markdown",
   "metadata": {},
   "source": [
    "# Немного простого кодирования\n",
    "\n",
    "Для того чтобы размяться, расслабиться и получить ещё немножко удовольствия и очков.\n",
    "\n",
    "## A. Алгоритм Евклида\n",
    "\n",
    "[Тот самый](http://e-maxx.ru/algo/export_euclid_algorithm).\n",
    "\n",
    "Даны $a$ и $b$.\n",
    "\n",
    "$$\n",
    "\\text{gcd}(a,b) = \\begin{cases}\n",
    "a, & b = 0\\\\\n",
    "\\text{gcd}(b, a\\mod{}b), & b \\ne 0\n",
    "\\end{cases}\n",
    "$$\n",
    "\n",
    "Реализовать $\\text{gcd}$ на Python.\n",
    "\n",
    "## B. Реализовать функцию, которая отвечает, простое число, или нет\n",
    "\n",
    "Т.е. возвращает `True`, если оно простое, и `False` в противном случае.\n",
    "Можно совершенно «в лоб», с проверкой на делимость, но чтобы проверок было не больше, чем необходимо.\n",
    "\n",
    "Но поскольку это решение неоптимально, следует воспользоваться возможностями *мемоизации* — декоратором [`@functools.lru_cache`](https://docs.python.org/3/library/functools.html#functools.lru_cache). Он похволяет кешировать результаты функций **без побочных эффектов**, чтобы не считать многократно то, что уже посчитано. При этом при помощи директивы `%timeit` можно посмотреть, насколько мемоизация ускоряет работу функции."
   ]
  },
  {
   "cell_type": "code",
   "execution_count": 146,
   "metadata": {
    "collapsed": true
   },
   "outputs": [],
   "source": [
    "#A\n",
    "def gcd (a,b):\n",
    "    if b==0:\n",
    "        return a\n",
    "    else:\n",
    "        return gcd(b,a%b)"
   ]
  },
  {
   "cell_type": "code",
   "execution_count": 7,
   "metadata": {
    "collapsed": true
   },
   "outputs": [],
   "source": [
    "#B.1\n",
    "import functools\n",
    "import math\n",
    "\n",
    "\n",
    "def is_simple(x):\n",
    "    for i in range(2,math.floor(math.sqrt(x))+1):\n",
    "        if  x%i==0:                    #вместо gcd использую %\n",
    "            if x!=2 :\n",
    "                return False\n",
    "            exit\n",
    "#учла отдельно единицу\n",
    "    if x==1:\n",
    "        return False\n",
    "    else:\n",
    "        return True\n",
    "        \n"
   ]
  },
  {
   "cell_type": "code",
   "execution_count": 8,
   "metadata": {},
   "outputs": [
    {
     "name": "stdout",
     "output_type": "stream",
     "text": [
      "2.41 µs ± 48.1 ns per loop (mean ± std. dev. of 7 runs, 100000 loops each)\n",
      "264 ns ± 1.2 ns per loop (mean ± std. dev. of 7 runs, 1000000 loops each)\n",
      "False\n"
     ]
    }
   ],
   "source": [
    "#B.2 \n",
    "# исправления ан-но B.1\n",
    "@functools.lru_cache()\n",
    "def is_simple_cached(x) -> 'bool':\n",
    "    for i in range(2,math.floor(math.sqrt(x))+1):\n",
    "        if  x%i==0:                   \n",
    "            if x!=2 :\n",
    "                return False\n",
    "            exit\n",
    "    if x==1:\n",
    "        return False\n",
    "    else:\n",
    "        return True\n",
    "# На самом деле можно было написать так:\n",
    "# is_simple_cached = functools.lru_cache()(is_simple)\n",
    "\n",
    "%timeit is_simple(1)\n",
    "%timeit is_simple_cached(1)\n",
    "\n",
    "print(is_simple_cached(1))"
   ]
  },
  {
   "cell_type": "code",
   "execution_count": 13,
   "metadata": {},
   "outputs": [
    {
     "data": {
      "text/plain": [
       "False"
      ]
     },
     "execution_count": 13,
     "metadata": {},
     "output_type": "execute_result"
    }
   ],
   "source": [
    "is_simple_cached(4)"
   ]
  },
  {
   "cell_type": "markdown",
   "metadata": {},
   "source": [
    "## C. Вывод чисел в системе счисления с произвольным (но не более 36) основанием\n",
    "\n",
    "Если основание не превосходит $B \\le 10$, используются цифры $\\{0,1,\\ldots, B-1\\}$. Если от $10 < B \\le 36$, то $\\{0,\\ldots, 10, A \\ldots\\}$ в количестве $B$.\n",
    "\n",
    "Конструктор `int` в Python умеет получать $B$ на вход, что много кого не раз выручало:"
   ]
  },
  {
   "cell_type": "code",
   "execution_count": 14,
   "metadata": {},
   "outputs": [
    {
     "name": "stdout",
     "output_type": "stream",
     "text": [
      "44027\n"
     ]
    }
   ],
   "source": [
    "print(int('XYZ', 36))"
   ]
  },
  {
   "cell_type": "markdown",
   "metadata": {},
   "source": [
    "Ещё есть следующие полезные встроенные функции, они выручат нас:"
   ]
  },
  {
   "cell_type": "code",
   "execution_count": 15,
   "metadata": {},
   "outputs": [
    {
     "name": "stdout",
     "output_type": "stream",
     "text": [
      "65\n",
      "B\n"
     ]
    }
   ],
   "source": [
    "# Функция ord — номер символа в наборе Unicode\n",
    "print(ord('A'))\n",
    "\n",
    "# Функция chr — выводит символ с заданным номером:\n",
    "print(chr(ord('A') + 1))"
   ]
  },
  {
   "cell_type": "markdown",
   "metadata": {},
   "source": [
    "А вот такой полезной функции нету. А хочется, чтобы была:"
   ]
  },
  {
   "cell_type": "code",
   "execution_count": 28,
   "metadata": {},
   "outputs": [],
   "source": [
    "#C\n",
    "# воспользовалась подсказкой и начала использовать строчку digit_string \n",
    "# вместо % и // использую divmod\n",
    "# таким образом исключила множество условий\n",
    "def str_base(x,n) :\n",
    "    digit_string ='0123456789ABCDEFGHIJKLMNOPQRSTUVWXYZ'\n",
    "    r, d = divmod(x,n)\n",
    "    if r==0:\n",
    "        return digit_string [d]\n",
    "    else:\n",
    "        return str_base(r,n)+digit_string[d]\n",
    "  \n"
   ]
  },
  {
   "cell_type": "code",
   "execution_count": 29,
   "metadata": {},
   "outputs": [
    {
     "data": {
      "text/plain": [
       "'XYZ'"
      ]
     },
     "execution_count": 29,
     "metadata": {},
     "output_type": "execute_result"
    }
   ],
   "source": [
    "str_base(44027,36)"
   ]
  },
  {
   "cell_type": "markdown",
   "metadata": {},
   "source": [
    "## D. Расширенный Алгоритм Евклида\n",
    "\n",
    "Тоже [тот самый](http://e-maxx.ru/algo/export_extended_euclid_algorithm).\n",
    "\n",
    "Даны $a$ и $b$. Обратиться к своим знаниям алгебры (если они не помогли, то можно сходить по ссылке выше) и реализовать $\\text{egcd}$, такую что $\\text{egcd}(a, b) = \\left<x, y, \\text{gcd}(a, b)\\right>$, такие что $\\text{gcd}(a, b) = ax + by$."
   ]
  },
  {
   "cell_type": "code",
   "execution_count": 20,
   "metadata": {
    "collapsed": true
   },
   "outputs": [],
   "source": [
    "#D\n",
    "# заменила список на кортеж   \n",
    "def egcd (a,b):\n",
    "    x=a\n",
    "    y=b\n",
    "    if a==0:\n",
    "        return b,0,1\n",
    "    else:\n",
    "        g,s,t = egcd(b%a,a)\n",
    "        return g, t - math.floor(y / x) * s, s\n"
   ]
  },
  {
   "cell_type": "code",
   "execution_count": 21,
   "metadata": {},
   "outputs": [
    {
     "data": {
      "text/plain": [
       "(5, -17, 1)"
      ]
     },
     "execution_count": 21,
     "metadata": {},
     "output_type": "execute_result"
    }
   ],
   "source": [
    "egcd (10,175)"
   ]
  },
  {
   "cell_type": "code",
   "execution_count": null,
   "metadata": {
    "collapsed": true
   },
   "outputs": [],
   "source": []
  },
  {
   "cell_type": "code",
   "execution_count": null,
   "metadata": {
    "collapsed": true
   },
   "outputs": [],
   "source": []
  }
 ],
 "metadata": {
  "kernelspec": {
   "display_name": "Python 3",
   "language": "python",
   "name": "python3"
  },
  "language_info": {
   "codemirror_mode": {
    "name": "ipython",
    "version": 3
   },
   "file_extension": ".py",
   "mimetype": "text/x-python",
   "name": "python",
   "nbconvert_exporter": "python",
   "pygments_lexer": "ipython3",
   "version": "3.6.3"
  }
 },
 "nbformat": 4,
 "nbformat_minor": 2
}
