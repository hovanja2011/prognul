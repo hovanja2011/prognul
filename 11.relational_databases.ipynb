{
 "cells": [
  {
   "cell_type": "markdown",
   "metadata": {},
   "source": [
    "# Работа с реляционными БД\n",
    "\n",
    "## Термины\n",
    "\n",
    "* **БД** — база данных, то, где хранятся данные (вот так)\n",
    "* **СУБД** — система управления базами данных — программное обеспечение для работы в с данными\n",
    "* **Отношение** термин [*реляционной алгебры*](https://ru.wikipedia.org/wiki/%D0%A0%D0%B5%D0%BB%D1%8F%D1%86%D0%B8%D0%BE%D0%BD%D0%BD%D0%B0%D1%8F_%D0%B0%D0%BB%D0%B3%D0%B5%D0%B1%D1%80%D0%B0) — аналог таблицы истинности логического отношения\n",
    "* **Таблица** — набор данных в БД, соответствующий отношению в реляционной алгебре\n",
    "\n",
    "## Структура и нормализация данных\n",
    "\n",
    "1. 1NF — отношение состоит из кортежей одинаковой природы, элементы кортежей атомарны\n",
    "2. 2NF — каждый неключевой атрибут функционально зависит от ключа\n",
    "3. 3NF — нет транзитивных функциональных зависимостей\n",
    "\n",
    "...\n",
    "\n",
    "См. Дейт К. Дж. Введение в системы баз данных\n",
    "\n",
    "## Поехали уже =)\n",
    "\n",
    "![Bobby Tables](https://imgs.xkcd.com/comics/exploits_of_a_mom.png)"
   ]
  },
  {
   "cell_type": "code",
   "execution_count": 252,
   "metadata": {
    "collapsed": true
   },
   "outputs": [],
   "source": [
    "import sqlite3\n",
    "import sqlalchemy\n",
    "\n",
    "conn = sqlite3.connect(\"students.db\")  # Как оригинально!\n",
    "cursor = conn.cursor()"
   ]
  },
  {
   "cell_type": "markdown",
   "metadata": {},
   "source": [
    "А дальше соединения с любой реляционной БД и (для любых типов реляционных СУБД) должны (желательно) удовлетворять [Python DB-API 2.0](https://www.python.org/dev/peps/pep-0249/)."
   ]
  },
  {
   "cell_type": "code",
   "execution_count": 253,
   "metadata": {
    "collapsed": true
   },
   "outputs": [],
   "source": [
    "with open(\"11.drop_ddl.sql\", 'r', encoding='utf-8') as f: drop_ddl = f.read()\n",
    "with open(\"11.create_ddl.sql\", 'r', encoding='utf-8') as f: create_ddl = f.read()\n",
    "with open(\"11.insert_dml.sql\", 'r', encoding='utf-8') as f: insert_dml = f.read()"
   ]
  },
  {
   "cell_type": "code",
   "execution_count": 254,
   "metadata": {
    "collapsed": true
   },
   "outputs": [],
   "source": [
    "if True:\n",
    "    for st in drop_ddl.split(';'):\n",
    "        cursor.execute(st)\n",
    "    conn.commit()"
   ]
  },
  {
   "cell_type": "code",
   "execution_count": 255,
   "metadata": {
    "collapsed": true
   },
   "outputs": [],
   "source": [
    "for st in create_ddl.split(';'):\n",
    "    cursor.execute(st)\n",
    "conn.commit()"
   ]
  },
  {
   "cell_type": "code",
   "execution_count": 256,
   "metadata": {
    "collapsed": true
   },
   "outputs": [],
   "source": [
    "for st in insert_dml.split(';'):\n",
    "    cursor.execute(st)\n",
    "conn.commit()"
   ]
  },
  {
   "cell_type": "code",
   "execution_count": 257,
   "metadata": {},
   "outputs": [
    {
     "data": {
      "text/html": [
       "<table>\n",
       "<tbody>\n",
       "<tr><td style=\"text-align: right;\">1</td><td>математика и информационные технологии</td></tr>\n",
       "<tr><td style=\"text-align: right;\">2</td><td>теоретическая физика                  </td></tr>\n",
       "</tbody>\n",
       "</table>"
      ],
      "text/plain": [
       "<IPython.core.display.HTML object>"
      ]
     },
     "metadata": {},
     "output_type": "display_data"
    },
    {
     "data": {
      "text/html": [
       "<table>\n",
       "<tbody>\n",
       "<tr><td style=\"text-align: right;\">1</td><td style=\"text-align: right;\">1</td><td style=\"text-align: right;\">180101</td><td>Битов   </td><td>Антон   </td><td></td></tr>\n",
       "<tr><td style=\"text-align: right;\">2</td><td style=\"text-align: right;\">2</td><td style=\"text-align: right;\">180201</td><td>Аргонова</td><td>Виолетта</td><td></td></tr>\n",
       "</tbody>\n",
       "</table>"
      ],
      "text/plain": [
       "<IPython.core.display.HTML object>"
      ]
     },
     "metadata": {},
     "output_type": "display_data"
    }
   ],
   "source": [
    "from IPython.display import HTML, display\n",
    "import tabulate  # pip install tabulate\n",
    "\n",
    "cursor.execute(\"\"\"SELECT * FROM programs;\"\"\")\n",
    "display(HTML(tabulate.tabulate(cursor.fetchall(), tablefmt='html')))\n",
    "\n",
    "cursor.execute(\"\"\"SELECT * FROM students;\"\"\")\n",
    "display(HTML(tabulate.tabulate(cursor.fetchall(), tablefmt='html')))\n",
    "\n"
   ]
  },
  {
   "cell_type": "code",
   "execution_count": 258,
   "metadata": {},
   "outputs": [],
   "source": [
    "# Добавляем недостающие данные при помощи команды INSERT, используя SQL - синтаксис\n",
    "cursor.executescript(\"\"\"\n",
    "INSERT INTO courses (name) VALUES ('python');\n",
    "INSERT INTO programs_courses VALUES (1,1,1);\n",
    "INSERT INTO programs_courses VALUES (2,1,1);\n",
    "INSERT INTO programs_courses VALUES (1,1,2);\n",
    "INSERT INTO programs_courses VALUES (2,1,2);\"\"\")\n",
    "\n",
    "cursor.executescript(\"\"\"\n",
    "INSERT INTO marks VALUES (1,1,4);\n",
    "INSERT INTO marks VALUES (2,1,5);\"\"\")\n",
    "\n",
    "# Если мы не просто читаем, но и вносим изменения в базу данных - необходимо сохранить транзакцию\n",
    "conn.commit()\n",
    "\n"
   ]
  },
  {
   "cell_type": "code",
   "execution_count": 259,
   "metadata": {},
   "outputs": [
    {
     "data": {
      "text/html": [
       "<table>\n",
       "<tbody>\n",
       "<tr><td style=\"text-align: right;\">1</td><td>математика и информационные технологии</td></tr>\n",
       "<tr><td style=\"text-align: right;\">2</td><td>теоретическая физика                  </td></tr>\n",
       "</tbody>\n",
       "</table>"
      ],
      "text/plain": [
       "<IPython.core.display.HTML object>"
      ]
     },
     "metadata": {},
     "output_type": "display_data"
    },
    {
     "data": {
      "text/html": [
       "<table>\n",
       "<tbody>\n",
       "<tr><td style=\"text-align: right;\">1</td><td style=\"text-align: right;\">1</td><td style=\"text-align: right;\">180101</td><td>Битов   </td><td>Антон   </td><td></td></tr>\n",
       "<tr><td style=\"text-align: right;\">2</td><td style=\"text-align: right;\">2</td><td style=\"text-align: right;\">180201</td><td>Аргонова</td><td>Виолетта</td><td></td></tr>\n",
       "</tbody>\n",
       "</table>"
      ],
      "text/plain": [
       "<IPython.core.display.HTML object>"
      ]
     },
     "metadata": {},
     "output_type": "display_data"
    },
    {
     "data": {
      "text/html": [
       "<table>\n",
       "<tbody>\n",
       "<tr><td style=\"text-align: right;\">1</td><td>python</td></tr>\n",
       "</tbody>\n",
       "</table>"
      ],
      "text/plain": [
       "<IPython.core.display.HTML object>"
      ]
     },
     "metadata": {},
     "output_type": "display_data"
    },
    {
     "data": {
      "text/html": [
       "<table>\n",
       "<tbody>\n",
       "<tr><td style=\"text-align: right;\">1</td><td style=\"text-align: right;\">1</td><td style=\"text-align: right;\">1</td></tr>\n",
       "<tr><td style=\"text-align: right;\">2</td><td style=\"text-align: right;\">1</td><td style=\"text-align: right;\">1</td></tr>\n",
       "<tr><td style=\"text-align: right;\">1</td><td style=\"text-align: right;\">1</td><td style=\"text-align: right;\">2</td></tr>\n",
       "<tr><td style=\"text-align: right;\">2</td><td style=\"text-align: right;\">1</td><td style=\"text-align: right;\">2</td></tr>\n",
       "</tbody>\n",
       "</table>"
      ],
      "text/plain": [
       "<IPython.core.display.HTML object>"
      ]
     },
     "metadata": {},
     "output_type": "display_data"
    },
    {
     "data": {
      "text/html": [
       "<table>\n",
       "<tbody>\n",
       "<tr><td style=\"text-align: right;\">1</td><td style=\"text-align: right;\">1</td><td style=\"text-align: right;\">4</td></tr>\n",
       "<tr><td style=\"text-align: right;\">2</td><td style=\"text-align: right;\">1</td><td style=\"text-align: right;\">5</td></tr>\n",
       "</tbody>\n",
       "</table>"
      ],
      "text/plain": [
       "<IPython.core.display.HTML object>"
      ]
     },
     "metadata": {},
     "output_type": "display_data"
    }
   ],
   "source": [
    "# здесь смотрю, что получилось\n",
    "cursor.execute(\"\"\"SELECT * FROM programs;\"\"\")\n",
    "display(HTML(tabulate.tabulate(cursor.fetchall(), tablefmt='html')))\n",
    "\n",
    "cursor.execute(\"\"\"SELECT * FROM students;\"\"\")\n",
    "display(HTML(tabulate.tabulate(cursor.fetchall(), tablefmt='html')))\n",
    "\n",
    "cursor.execute(\"\"\"SELECT * FROM courses;\"\"\")\n",
    "display(HTML(tabulate.tabulate(cursor.fetchall(), tablefmt='html')))\n",
    "\n",
    "cursor.execute(\"\"\"SELECT * FROM programs_courses;\"\"\")\n",
    "display(HTML(tabulate.tabulate(cursor.fetchall(), tablefmt='html')))\n",
    "\n",
    "cursor.execute(\"\"\"SELECT * FROM marks;\"\"\")\n",
    "display(HTML(tabulate.tabulate(cursor.fetchall(), tablefmt='html')))"
   ]
  },
  {
   "cell_type": "code",
   "execution_count": 260,
   "metadata": {},
   "outputs": [
    {
     "data": {
      "text/html": [
       "<table>\n",
       "<tbody>\n",
       "<tr><td style=\"text-align: right;\">1</td><td style=\"text-align: right;\">1</td><td style=\"text-align: right;\">180101</td><td>Битов   </td><td>Антон   </td><td></td><td style=\"text-align: right;\">1</td><td style=\"text-align: right;\">1</td><td style=\"text-align: right;\">4</td></tr>\n",
       "<tr><td style=\"text-align: right;\">2</td><td style=\"text-align: right;\">2</td><td style=\"text-align: right;\">180201</td><td>Аргонова</td><td>Виолетта</td><td></td><td style=\"text-align: right;\">2</td><td style=\"text-align: right;\">1</td><td style=\"text-align: right;\">5</td></tr>\n",
       "</tbody>\n",
       "</table>"
      ],
      "text/plain": [
       "<IPython.core.display.HTML object>"
      ]
     },
     "metadata": {},
     "output_type": "display_data"
    }
   ],
   "source": [
    "# сортируем студентов по увеличению оценки \n",
    "cursor.execute(\"\"\"\n",
    "SELECT  * FROM students, marks\n",
    "    WHERE students.id=marks.student_id\n",
    "\"\"\")\n",
    "display(HTML(tabulate.tabulate(cursor.fetchall(), tablefmt='html')))"
   ]
  },
  {
   "cell_type": "code",
   "execution_count": 273,
   "metadata": {},
   "outputs": [
    {
     "data": {
      "text/html": [
       "<table>\n",
       "<tbody>\n",
       "<tr><td>Аргонова</td><td>Виолетта</td><td style=\"text-align: right;\">5</td><td style=\"text-align: right;\">2</td><td style=\"text-align: right;\">2</td></tr>\n",
       "</tbody>\n",
       "</table>"
      ],
      "text/plain": [
       "<IPython.core.display.HTML object>"
      ]
     },
     "metadata": {},
     "output_type": "display_data"
    }
   ],
   "source": [
    "# Нахожу тех студентов, чья оценка выше средней\n",
    "cursor.execute(\"\"\"\n",
    "SELECT surname, name, mark,student_id,students.id FROM students,marks\n",
    "    WHERE students.id=student_id and  \n",
    "    mark > (SELECT avg (mark) FROM marks ) \n",
    "\"\"\")\n",
    "display(HTML(tabulate.tabulate(cursor.fetchall(), tablefmt='html')))"
   ]
  },
  {
   "cell_type": "code",
   "execution_count": 250,
   "metadata": {
    "collapsed": true
   },
   "outputs": [],
   "source": [
    "conn.close()"
   ]
  },
  {
   "cell_type": "markdown",
   "metadata": {},
   "source": [
    "# Далее ничего не писала / добавляла / исправляла"
   ]
  },
  {
   "cell_type": "code",
   "execution_count": null,
   "metadata": {
    "collapsed": true
   },
   "outputs": [],
   "source": []
  },
  {
   "cell_type": "markdown",
   "metadata": {},
   "source": [
    "Теперь попробуем немного [ORM](https://en.wikipedia.org/wiki/Object-relational_mapping) — [SQLAlchemy](https://ru.wikibooks.org/wiki/SQLAlchemy)"
   ]
  },
  {
   "cell_type": "code",
   "execution_count": 27,
   "metadata": {
    "collapsed": true
   },
   "outputs": [],
   "source": [
    "from sqlalchemy import Table, Column, Integer, String, MetaData, ForeignKey\n",
    "from sqlalchemy.orm import sessionmaker, relationship\n",
    "from sqlalchemy.ext.declarative import declarative_base\n",
    "\n",
    "DeclBase = declarative_base()"
   ]
  },
  {
   "cell_type": "code",
   "execution_count": 28,
   "metadata": {
    "collapsed": true
   },
   "outputs": [],
   "source": [
    "engine = sqlalchemy.create_engine('sqlite:///students.db', echo=False)  # echo=True для логгинга\n",
    "Session = sessionmaker(bind=engine)\n",
    "session = Session()"
   ]
  },
  {
   "cell_type": "code",
   "execution_count": 16,
   "metadata": {
    "collapsed": true
   },
   "outputs": [],
   "source": [
    "class Program(DeclBase):\n",
    "    __tablename__ = 'programs'\n",
    "    id = Column(Integer, primary_key=True)\n",
    "    name = Column(String)\n",
    "\n",
    "    students = relationship(\"Student\", backref=\"program\")\n",
    "\n",
    "    def __init__(self, name):\n",
    "        self.name = name\n",
    "\n",
    "class Student(DeclBase):\n",
    "    __tablename__ = 'students'\n",
    "    id = Column(Integer, primary_key=True)\n",
    "    card = Column(String)\n",
    "    surname = Column(String)\n",
    "    name = Column(String)\n",
    "    patronymic = Column(String)\n",
    "    \n",
    "    program_id = Column(Integer, ForeignKey('programs.id'))\n",
    "    \n",
    "    def __init__(self, card, surname, name, patronymic, program):\n",
    "        self.card = card\n",
    "        self.surname = surname\n",
    "        self.name = name\n",
    "        self.patronymic = patronymic\n",
    "        self.program = program"
   ]
  },
  {
   "cell_type": "code",
   "execution_count": 17,
   "metadata": {
    "collapsed": true
   },
   "outputs": [],
   "source": [
    "se = Program(\"Программная инженерия\")\n",
    "\n",
    "st1 = Student(\"002002\", \"Иванов\", \"Пётр\", \"Сидорович\", se)\n",
    "st2 = Student(\"002003\", \"Петрова\", \"Исидора\", \"Ивановна\", se)\n",
    "\n",
    "session.add_all([se, st1, st2])\n",
    "session.commit()"
   ]
  },
  {
   "cell_type": "code",
   "execution_count": 18,
   "metadata": {},
   "outputs": [
    {
     "name": "stdout",
     "output_type": "stream",
     "text": [
      "Программы и студенты\n",
      "Программа:  математика и информационные технологии\n",
      "-  Антон\n",
      "Программа:  теоретическая физика\n",
      "-  Виолетта\n",
      "Программа:  Программная инженерия\n",
      "-  Пётр\n",
      "-  Исидора\n"
     ]
    }
   ],
   "source": [
    "import sys\n",
    "\n",
    "print(\"Программы и студенты\")\n",
    "for p in session.query(Program):\n",
    "    print(\"Программа: \", p.name)\n",
    "    for s in p.students:\n",
    "        print(\"- \", s.name)"
   ]
  },
  {
   "cell_type": "code",
   "execution_count": 19,
   "metadata": {},
   "outputs": [
    {
     "name": "stdout",
     "output_type": "stream",
     "text": [
      "Программы и студенты\n",
      "Программа:  математика и информационные технологии\n",
      "-  Антон\n",
      "Программа:  теоретическая физика\n",
      "Программа:  Программная инженерия\n",
      "-  Виолетта\n",
      "-  Пётр\n",
      "-  Исидора\n"
     ]
    }
   ],
   "source": [
    "for s in session.query(Student).filter_by(surname=\"Аргонова\"):\n",
    "    s.program = se\n",
    "session.commit()\n",
    "\n",
    "print(\"Программы и студенты\")\n",
    "for p in session.query(Program):\n",
    "    print(\"Программа: \", p.name)\n",
    "    for s in p.students:\n",
    "        print(\"- \", s.name)"
   ]
  },
  {
   "cell_type": "markdown",
   "metadata": {},
   "source": [
    "# БД: доработать блокнот и DML-скрипты: дополнить данными о курсах и оценках; попробовать другие запросы на чтение данных."
   ]
  },
  {
   "cell_type": "code",
   "execution_count": null,
   "metadata": {
    "collapsed": true
   },
   "outputs": [],
   "source": []
  }
 ],
 "metadata": {
  "kernelspec": {
   "display_name": "Python 3",
   "language": "python",
   "name": "python3"
  },
  "language_info": {
   "codemirror_mode": {
    "name": "ipython",
    "version": 3
   },
   "file_extension": ".py",
   "mimetype": "text/x-python",
   "name": "python",
   "nbconvert_exporter": "python",
   "pygments_lexer": "ipython3",
   "version": "3.6.3"
  }
 },
 "nbformat": 4,
 "nbformat_minor": 2
}
