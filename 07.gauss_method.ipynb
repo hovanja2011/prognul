{
 "cells": [
  {
   "cell_type": "markdown",
   "metadata": {},
   "source": [
    "# Описание метода\n",
    "\n",
    "Даны матрица $A$ размером $N\\times N$, вектор $B$ высотой $N$. Требуется найти вектор $X$ такой, что $AX=B$.\n",
    "\n",
    "Без терминологии линейной алгебры это записывается, как:\n",
    "\n",
    "$\n",
    "\\begin{array}{lcr}\n",
    "a_{11}x_1+\\ldots+a_{1N}x_N &=& b_1 \\\\\n",
    "\\ldots & & \\\\\n",
    "a_{N1}x_1+\\ldots+a_{NN}x_N &=& b_N \\\\\n",
    "\\end{array}\n",
    "$\n",
    "\n",
    "## Прямой ход\n",
    "\n",
    "Из второго уравнения вычитаем первое, умноженное на $\\frac{a_{21}}{a_{11}}$. Из третьего вычитаем первое, умноженное на $\\frac{a_{31}}{a_{11}}$. И т.д. до $N$-го. Получаем систему уравнений следующего вида.\n",
    "\n",
    "$\n",
    "\\begin{array}{lcr}\n",
    "a_{11}&x_1 +& a_{12} x_2 +\\ldots+a_{1N}x_N &=& b_1 \\\\\n",
    "0 &x_1 +& a'_{22} x_2 +\\ldots+a'_{1N}x_N &=& b'_1 \\\\\n",
    "& \\ldots & & \\\\\n",
    "0 &x_1 +& a'_{N2} x_2 +\\ldots+a'_{NN}x_N &=& b'_N \\\\\n",
    "\\end{array}\n",
    "$\n",
    "\n",
    "Затем из третьего уравнения вычитаем второе, умноженное на $\\frac{a_{32}}{a_{22}}$.\n",
    "\n",
    "И т.д., пока не выполним такое же действие над последней строкой.\n",
    "\n",
    "В итоге мы получим систему уравнений следующего вида.\n",
    "\n",
    "$\n",
    "\\begin{array}{lcr}\n",
    "a_{11}& x_1 +& a_{12}   & x_2 + & a''_{13} & x_3 + \\ldots + a_{1N}   x_N &=& b_1 \\\\\n",
    "0     & x_1 +& a''_{22} & x_2 + & a''_{23} & x_3 + \\ldots + a''_{2N} x_N &=& b''_1 \\\\\n",
    "0     & x_1 +& 0        & x_2 + & a''_{33} & x_3  +\\ldots + a''_{3N} x_N &=& b''_3 \\\\\n",
    "0     & x_1 +& 0        & x_2 + & 0        & x_3 + \\ldots + a''_{4N} x_N &=& b''_4 \\\\\n",
    "& & & \\ldots & & & & \\\\\n",
    "0 & x_1 +& & \\ldots & +                  & 0 x_{N-1} + a''_{NN} x_N &=& b''_N \\\\\n",
    "\\end{array}\n",
    "$\n",
    "\n",
    "\n",
    "## Обратный ход\n",
    "\n",
    "Очевидно, $x_N = \\frac{b''_N}{a''_{NN}}$.\n",
    "\n",
    "Далее, $x_i = \\frac{b''_i - \\sum_{j=i+1}^{N} a''_{ij}x_j}{a_{ii}}$\n",
    "\n",
    "\n",
    "# Задание\n",
    "\n",
    "Предлагается реализовать слкдующие недостающие функции"
   ]
  },
  {
   "cell_type": "markdown",
   "metadata": {},
   "source": [
    "Желающие вместо встроенных списков сразу могут использовать `numpy.array` — всё равно этим кончится."
   ]
  },
  {
   "cell_type": "code",
   "execution_count": 9,
   "metadata": {},
   "outputs": [
    {
     "name": "stdout",
     "output_type": "stream",
     "text": [
      "[ 0.   0.5  0.5]\n"
     ]
    },
    {
     "name": "stderr",
     "output_type": "stream",
     "text": [
      "C:\\ProgramData\\Anaconda3\\lib\\site-packages\\ipykernel_launcher.py:10: RuntimeWarning: divide by zero encountered in long_scalars\n",
      "  # Remove the CWD from sys.path while we load stuff.\n",
      "C:\\ProgramData\\Anaconda3\\lib\\site-packages\\ipykernel_launcher.py:11: RuntimeWarning: invalid value encountered in multiply\n",
      "  # This is added back by InteractiveShellApp.init_path()\n"
     ]
    },
    {
     "ename": "OverflowError",
     "evalue": "cannot convert float infinity to integer",
     "output_type": "error",
     "traceback": [
      "\u001b[1;31m---------------------------------------------------------------------------\u001b[0m",
      "\u001b[1;31mOverflowError\u001b[0m                             Traceback (most recent call last)",
      "\u001b[1;32m<ipython-input-9-81270a998434>\u001b[0m in \u001b[0;36m<module>\u001b[1;34m()\u001b[0m\n\u001b[0;32m     38\u001b[0m \u001b[0mprint\u001b[0m \u001b[1;33m(\u001b[0m\u001b[0ma\u001b[0m\u001b[1;33m[\u001b[0m\u001b[1;36m1\u001b[0m\u001b[1;33m]\u001b[0m\u001b[1;33m-\u001b[0m\u001b[0ma\u001b[0m\u001b[1;33m[\u001b[0m\u001b[1;36m1\u001b[0m\u001b[1;33m]\u001b[0m\u001b[1;33m[\u001b[0m\u001b[1;36m0\u001b[0m\u001b[1;33m]\u001b[0m\u001b[1;33m/\u001b[0m\u001b[0ma\u001b[0m\u001b[1;33m[\u001b[0m\u001b[1;36m0\u001b[0m\u001b[1;33m]\u001b[0m\u001b[1;33m[\u001b[0m\u001b[1;36m0\u001b[0m\u001b[1;33m]\u001b[0m\u001b[1;33m*\u001b[0m\u001b[0ma\u001b[0m\u001b[1;33m[\u001b[0m\u001b[1;36m0\u001b[0m\u001b[1;33m]\u001b[0m\u001b[1;33m)\u001b[0m\u001b[1;33m\u001b[0m\u001b[0m\n\u001b[0;32m     39\u001b[0m \u001b[1;33m\u001b[0m\u001b[0m\n\u001b[1;32m---> 40\u001b[1;33m \u001b[0mprint\u001b[0m\u001b[1;33m(\u001b[0m\u001b[0mgauss\u001b[0m\u001b[1;33m(\u001b[0m\u001b[0ma\u001b[0m\u001b[1;33m,\u001b[0m \u001b[0mb\u001b[0m\u001b[1;33m)\u001b[0m\u001b[1;33m)\u001b[0m\u001b[1;33m\u001b[0m\u001b[0m\n\u001b[0m",
      "\u001b[1;32m<ipython-input-9-81270a998434>\u001b[0m in \u001b[0;36mgauss\u001b[1;34m(a, b)\u001b[0m\n\u001b[0;32m     25\u001b[0m         \u001b[1;32mreturn\u001b[0m \u001b[0mx\u001b[0m\u001b[1;33m\u001b[0m\u001b[0m\n\u001b[0;32m     26\u001b[0m \u001b[1;33m\u001b[0m\u001b[0m\n\u001b[1;32m---> 27\u001b[1;33m     \u001b[0mforward\u001b[0m\u001b[1;33m(\u001b[0m\u001b[0ma\u001b[0m\u001b[1;33m,\u001b[0m\u001b[0mb\u001b[0m\u001b[1;33m)\u001b[0m\u001b[1;33m\u001b[0m\u001b[0m\n\u001b[0m\u001b[0;32m     28\u001b[0m \u001b[1;33m\u001b[0m\u001b[0m\n\u001b[0;32m     29\u001b[0m     \u001b[1;32mreturn\u001b[0m \u001b[0mbackward\u001b[0m\u001b[1;33m(\u001b[0m\u001b[0ma\u001b[0m\u001b[1;33m,\u001b[0m\u001b[0mb\u001b[0m\u001b[1;33m)\u001b[0m\u001b[1;33m\u001b[0m\u001b[0m\n",
      "\u001b[1;32m<ipython-input-9-81270a998434>\u001b[0m in \u001b[0;36mforward\u001b[1;34m(a, b)\u001b[0m\n\u001b[0;32m     10\u001b[0m                 \u001b[0mc\u001b[0m\u001b[1;33m=\u001b[0m\u001b[0ma\u001b[0m\u001b[1;33m[\u001b[0m\u001b[0mj\u001b[0m\u001b[1;33m]\u001b[0m\u001b[1;33m[\u001b[0m\u001b[0mi\u001b[0m\u001b[1;33m]\u001b[0m\u001b[1;33m/\u001b[0m\u001b[0ma\u001b[0m\u001b[1;33m[\u001b[0m\u001b[0mi\u001b[0m\u001b[1;33m]\u001b[0m\u001b[1;33m[\u001b[0m\u001b[0mi\u001b[0m\u001b[1;33m]\u001b[0m\u001b[1;33m\u001b[0m\u001b[0m\n\u001b[0;32m     11\u001b[0m                 \u001b[0ma\u001b[0m\u001b[1;33m[\u001b[0m\u001b[0mj\u001b[0m\u001b[1;33m]\u001b[0m\u001b[1;33m=\u001b[0m\u001b[0ma\u001b[0m\u001b[1;33m[\u001b[0m\u001b[0mj\u001b[0m\u001b[1;33m]\u001b[0m\u001b[1;33m-\u001b[0m\u001b[0mc\u001b[0m\u001b[1;33m*\u001b[0m\u001b[0ma\u001b[0m\u001b[1;33m[\u001b[0m\u001b[0mi\u001b[0m\u001b[1;33m]\u001b[0m\u001b[1;33m\u001b[0m\u001b[0m\n\u001b[1;32m---> 12\u001b[1;33m                 \u001b[0mb\u001b[0m\u001b[1;33m[\u001b[0m\u001b[0mj\u001b[0m\u001b[1;33m]\u001b[0m\u001b[1;33m=\u001b[0m\u001b[0mb\u001b[0m\u001b[1;33m[\u001b[0m\u001b[0mj\u001b[0m\u001b[1;33m]\u001b[0m\u001b[1;33m-\u001b[0m\u001b[0mc\u001b[0m\u001b[1;33m*\u001b[0m\u001b[0mb\u001b[0m\u001b[1;33m[\u001b[0m\u001b[0mi\u001b[0m\u001b[1;33m]\u001b[0m\u001b[1;33m\u001b[0m\u001b[0m\n\u001b[0m\u001b[0;32m     13\u001b[0m         \u001b[1;32mreturn\u001b[0m \u001b[0ma\u001b[0m\u001b[1;33m,\u001b[0m\u001b[0mb\u001b[0m\u001b[1;33m\u001b[0m\u001b[0m\n\u001b[0;32m     14\u001b[0m \u001b[1;33m\u001b[0m\u001b[0m\n",
      "\u001b[1;31mOverflowError\u001b[0m: cannot convert float infinity to integer"
     ]
    }
   ],
   "source": [
    "import copy  \n",
    "import numpy\n",
    "\n",
    "def gauss(a, b):\n",
    "    a=a.copy()\n",
    "    b=b.copy()\n",
    "    def forward(a,b):\n",
    "        for i in range (len(b)-1):\n",
    "            for j in range (i+1,len(b)):\n",
    "                c=a[j][i]/a[i][i]\n",
    "                a[j]=a[j]-c*a[i]\n",
    "                b[j]=b[j]-c*b[i]\n",
    "        return a,b\n",
    "    \n",
    "    def backward(a,b):\n",
    "        x = [0] * len(b)\n",
    "        x = numpy.zeros(len(b))\n",
    "        i=0\n",
    "        while i<len(b):\n",
    "            for j in range (i+1,len(b)):\n",
    "                x[i]-=a[i][j]*x[j]\n",
    "            x[i]=(b[i]+x[i])/a[i][i]\n",
    "            i+=1\n",
    "        print(x)\n",
    "        return x\n",
    "\n",
    "    forward(a,b)\n",
    "\n",
    "    return backward(a,b)\n",
    "\n",
    "a = numpy.array([\n",
    "    [2,1,-1],\n",
    "    [-3,-1,2],\n",
    "    [-2,1,2]\n",
    "])\n",
    "\n",
    "b = numpy.array([8,-11,-3])\n",
    "print (a[1]-a[1][0]/a[0][0]*a[0])\n",
    "\n",
    "print(gauss(a, b))\n"
   ]
  },
  {
   "cell_type": "code",
   "execution_count": 2,
   "metadata": {},
   "outputs": [
    {
     "ename": "NameError",
     "evalue": "name 'b' is not defined",
     "output_type": "error",
     "traceback": [
      "\u001b[1;31m---------------------------------------------------------------------------\u001b[0m",
      "\u001b[1;31mNameError\u001b[0m                                 Traceback (most recent call last)",
      "\u001b[1;32m<ipython-input-2-cae8021f3799>\u001b[0m in \u001b[0;36m<module>\u001b[1;34m()\u001b[0m\n\u001b[1;32m----> 1\u001b[1;33m \u001b[0mprint\u001b[0m\u001b[1;33m(\u001b[0m\u001b[0mb\u001b[0m\u001b[1;33m)\u001b[0m\u001b[1;33m\u001b[0m\u001b[0m\n\u001b[0m\u001b[0;32m      2\u001b[0m \u001b[0mprint\u001b[0m\u001b[1;33m(\u001b[0m\u001b[0ma\u001b[0m\u001b[1;33m)\u001b[0m\u001b[1;33m\u001b[0m\u001b[0m\n\u001b[0;32m      3\u001b[0m \u001b[0mlen\u001b[0m\u001b[1;33m(\u001b[0m\u001b[0mb\u001b[0m\u001b[1;33m)\u001b[0m\u001b[1;33m\u001b[0m\u001b[0m\n",
      "\u001b[1;31mNameError\u001b[0m: name 'b' is not defined"
     ]
    }
   ],
   "source": [
    "print(b)\n",
    "print(a)\n",
    "len(b)\n"
   ]
  },
  {
   "cell_type": "code",
   "execution_count": 2,
   "metadata": {},
   "outputs": [
    {
     "name": "stdout",
     "output_type": "stream",
     "text": [
      "[0, 0, 0]\n"
     ]
    }
   ],
   "source": [
    "import numpy\n",
    "\n",
    "# ...\n",
    "def \n",
    "# ...\n",
    "\n",
    "a = numpy.array([\n",
    "    [1,2,1],\n",
    "    [3,2,3],\n",
    "    [1,0,0]\n",
    "])\n",
    "\n",
    "b = numpy.array([5,6,7])\n",
    "\n",
    "# Somewhere in reverse\n",
    "# ...\n",
    "# ...\n",
    "\n",
    "print(gauss(a, b))"
   ]
  }
 ],
 "metadata": {
  "kernelspec": {
   "display_name": "Python 3",
   "language": "python",
   "name": "python3"
  },
  "language_info": {
   "codemirror_mode": {
    "name": "ipython",
    "version": 3
   },
   "file_extension": ".py",
   "mimetype": "text/x-python",
   "name": "python",
   "nbconvert_exporter": "python",
   "pygments_lexer": "ipython3",
   "version": "3.6.3"
  }
 },
 "nbformat": 4,
 "nbformat_minor": 2
}
