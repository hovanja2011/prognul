{
 "cells": [
  {
   "cell_type": "markdown",
   "metadata": {},
   "source": [
    "# Задача N тел\n",
    "\n",
    "Иоганн Кеплер (1571–1630). Несмотря на отсутсвие знаний о теории поля и динамике,\n",
    "установил важные закономерности, в т.ч. *закон Кеплера*\n",
    "о заметаемых движущейся вокруг центроида материальной точкой секторах.\n",
    "\n",
    "При этом, по некоторым неподтверждённым данным, полагал, что сила тяжести от расстояния зависит как $\\frac{1}{R}$, а не $\\frac{1}{R^2}$.\n",
    "\n",
    "## В нашей вселенной\n",
    "\n",
    "У нас три пространственных измерения, одно временное и ещё с десяток (а то и больше) всяких мудрёных, которые участвуют в нашей жизни слишком неочевидным образом, чтобы относиться к данному курсу.\n",
    "\n",
    "Материальная точка $a$ (вот об этом Кеплер не знал) индуцирует гравитационное поле, которое является *потенциальным скалярным полем*. *Градиент* этого поля, умноженный на массу материальной точки $b$ индуцирует приложенную к ней силу тяжести. Сила тяжести направлена в сторону точки $a$, а её абсолютная величина пропорциональна *плотности потока* индуцированного точкой $a$ поля. Поток через любую поверхность вокруг токи $а$ постоянный. А плотность, если поверхность сферическая, обратно пропорциональна площади этой поверхности, т.е. пропорциональна $\\frac{1}{R^2}$.\n",
    "\n",
    "Смоделируем траекторию материальной точки около другой, «неподвижной» материальной точки. Находиться они будут всегда в одной плоскости, движение также будет в этой плоскости, поэтому модель вполне подойдёт двумерная, хотя мир и трёхмерный. Для двумерной модели можно бы было воспользоваться комплексными числами, но правильнее всё-таки векторами."
   ]
  },
  {
   "cell_type": "code",
   "execution_count": 20,
   "metadata": {},
   "outputs": [
    {
     "name": "stdout",
     "output_type": "stream",
     "text": [
      "3\n"
     ]
    },
    {
     "data": {
      "image/png": "[encoded data removed]",
      "text/plain": [
       "<matplotlib.figure.Figure at 0x5a4a170>"
      ]
     },
     "metadata": {},
     "output_type": "display_data"
    }
   ],
   "source": [
    "%matplotlib inline\n",
    "\n",
    "import numpy\n",
    "import numpy.linalg\n",
    "import numpy.random\n",
    "import matplotlib.pyplot as plt\n",
    "\n",
    "\n",
    "G = 50.0  # гравитационная постоянная\n",
    "collision_distance = 5.0  # всё-таки это не точки\n",
    "model_delta_t = 0.01\n",
    "time_to_model = 10\n",
    "q=3   # кол-во масс-1\n",
    "\n",
    "class MaterialPoint:\n",
    "    \"\"\"Материальная точка, движущаяся по двумерной плоскости\"\"\"\n",
    "    \n",
    "    def __init__(self, mass: 'float', position: 'numpy.array', velocity: 'numpy.array'):\n",
    "        # Аннотации типов по желанию, но могут помочь IDE и компилятору, когда таковые имеются\n",
    "        self.mass = mass\n",
    "        self.position = position\n",
    "        self.velocity = velocity\n",
    "    \n",
    "    @staticmethod\n",
    "    def gravity_dencity(dist: 'float')-> 'float':\n",
    "        if dist > collision_distance:\n",
    "            return G / dist\n",
    "        else:\n",
    "            return -G / dist   # будем считать, что отскакивают точки друг от друга резко, но стараться не допускать этого\n",
    "    \n",
    "    def force_induced_by_other(self, other: 'MaterialPoint')-> 'numpy.array':\n",
    "        delta_p = other.position - self.position\n",
    "        distance = numpy.linalg.norm(delta_p)  # Евклидова норма (по теореме Пифагора)\n",
    "        force_direction = delta_p / distance\n",
    "        force = force_direction * self.mass * other.mass * MaterialPoint.gravity_dencity(distance)\n",
    "        return force\n",
    "    \n",
    "    def advance(self):\n",
    "        # print(self.position)\n",
    "        self.position += self.velocity * model_delta_t\n",
    "\n",
    "    def apply_force(self, force: 'numpy.array'):\n",
    "        # print(force)\n",
    "        self.velocity += force * model_delta_t / self.mass\n",
    "\n",
    "\n",
    "centrum = MaterialPoint(500.0, numpy.array([0.0, 0.0]), numpy.array([0.0, 0.0]))\n",
    "points=[]\n",
    "masss=numpy.random.random (q)*10\n",
    "positions=numpy.random.random((q,2))*50\n",
    "velocitys=numpy.random.random((q,2))*50\n",
    "\n",
    "for i in range (q):\n",
    "    point_0 = MaterialPoint(masss[i], positions[i], velocitys[i])\n",
    "    points.append(point_0)\n",
    "\n",
    "\n",
    "def model_step():\n",
    "    for i in range (q):\n",
    "        points[i].apply_force(points[i].force_induced_by_other(centrum))\n",
    "        for j in range(q):\n",
    "            if i!=j :\n",
    "                points[i].apply_force(points[i].force_induced_by_other(points[j]))\n",
    "        points[i].advance()\n",
    "\n",
    "xs=[]\n",
    "ys=[]\n",
    "for i in range(q):\n",
    "    xs.append([])\n",
    "    ys.append([])\n",
    "print(len(ys))\n",
    "    \n",
    "for stepn in range(int(time_to_model / model_delta_t)):\n",
    "    for i in range(q):\n",
    "        xs[i].append(points[i].position[0])\n",
    "        ys[i].append(points[i].position[1])\n",
    "    model_step()\n",
    "\n",
    "c = plt.Circle((0, 0), 2, color='b')\n",
    "fig = plt.figure()\n",
    "ax = fig.add_subplot(1, 1, 1)\n",
    "ax.add_patch(c)\n",
    "\n",
    "for i in range(q):\n",
    "    plt.plot(xs[i],ys[i])\n",
    "    \n",
    "\n",
    "plt.show()\n"
   ]
  },
  {
   "cell_type": "markdown",
   "metadata": {},
   "source": [
    "Мы получили идеализированную картину — материальные точки друг на друга не влияют, центроид не движется, но притягивает их, пространство трёхмерное.\n",
    "\n",
    "## В планиверсуме\n",
    "\n",
    "А.К. Дьюдни. Планиверсум. Виртуальный контакт с двумерным миром (оригинал англ., 1984 г.)\n",
    "\n",
    "Вполне возможно, что сам Дьюдни, как и Кеплер (но по иным причинам) не думал о применении аппарата теории поля к описываемому им миру. А ведь в его мире материальную точку должна окружать не сфера, а окружность. И (вспоминаем Кеплера!), если теорию поля брать за основу, сила тяжести в двумерном мире действительно будет пропорциональна $\\frac{1}{R}$!\n",
    "\n",
    "### Задание\n",
    "\n",
    "#### a\n",
    "\n",
    "Взять код выше и смоделировать ситуацию для двумерного мира (в котором сила тяготения пропорциональна $\\frac{1}{R}$) и набора из произвольного количества тел (проверить для трёх, но использовать список).\n",
    "\n",
    "#### b\n",
    "\n",
    "Посмотреть, как изменится картина, когда тела начнут притягивать друг друга."
   ]
  },
  {
   "cell_type": "code",
   "execution_count": 8,
   "metadata": {},
   "outputs": [
    {
     "data": {
      "text/plain": [
       "3"
      ]
     },
     "execution_count": 8,
     "metadata": {},
     "output_type": "execute_result"
    }
   ],
   "source": [
    "len(points)"
   ]
  },
  {
   "cell_type": "code",
   "execution_count": 9,
   "metadata": {},
   "outputs": [
    {
     "name": "stdout",
     "output_type": "stream",
     "text": [
      "[<__main__.MaterialPoint object at 0x0704CC90>, <__main__.MaterialPoint object at 0x0704CB30>, <__main__.MaterialPoint object at 0x0704CF70>]\n"
     ]
    }
   ],
   "source": [
    "print (points)"
   ]
  },
  {
   "cell_type": "code",
   "execution_count": null,
   "metadata": {
    "collapsed": true
   },
   "outputs": [],
   "source": []
  }
 ],
 "metadata": {
  "kernelspec": {
   "display_name": "Python 3",
   "language": "python",
   "name": "python3"
  },
  "language_info": {
   "codemirror_mode": {
    "name": "ipython",
    "version": 3
   },
   "file_extension": ".py",
   "mimetype": "text/x-python",
   "name": "python",
   "nbconvert_exporter": "python",
   "pygments_lexer": "ipython3",
   "version": "3.6.3"
  }
 },
 "nbformat": 4,
 "nbformat_minor": 2
}
